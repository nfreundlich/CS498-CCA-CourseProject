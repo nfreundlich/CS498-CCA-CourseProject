{
 "cells": [
  {
   "cell_type": "markdown",
   "metadata": {},
   "source": [
    "**Changes** - The data directories should be located directly in the data folder, not in subfolders by month. The load_data() function takes in the path to the data directory and the language to filter by (None returns all languages). It returns the data from the directories as a dataframe. I also added some additional data fields from the XML files to the dataframe."
   ]
  },
  {
   "cell_type": "code",
   "execution_count": 22,
   "metadata": {},
   "outputs": [],
   "source": [
    "import json\n",
    "import os\n",
    "import collections\n",
    "import io\n",
    "import numpy as np\n",
    "import xmltodict\n",
    "import pandas as pd\n",
    "import json\n",
    "import matplotlib.pyplot as plt\n",
    "import urllib.request\n",
    "%matplotlib inline"
   ]
  },
  {
   "cell_type": "markdown",
   "metadata": {},
   "source": [
    "* [TED Schemas](https://publications.europa.eu/en/web/eu-vocabularies/tedschemashttps://publications.europa.eu/en/web/eu-vocabularies/tedschemas)\n",
    "* [Forms in PDF ](http://simap.ted.europa.eu/standard-forms-for-public-procurement)\n",
    "* [Daily Notices](https://data.europa.eu/euodp/data/dataset/ted-1/resource/0eec3f91-27f1-4ce0-91d2-102d82cb97ec)"
   ]
  },
  {
   "cell_type": "code",
   "execution_count": 29,
   "metadata": {},
   "outputs": [],
   "source": [
    "data_path = \"../data\"\n",
    "\n",
    "def load_data(data_path, language=\"EN\"):\n",
    "    # get the list of the subdirectories\n",
    "    dirs = os.listdir(data_path)\n",
    "    parsed_xmls = []\n",
    "    \n",
    "    language_tenders = []\n",
    "    all_tenders = []\n",
    "    \n",
    "    # loop through the subdirectories and get the list of files in each\n",
    "    for dir_ in dirs:\n",
    "        files = os.listdir(os.path.join(data_path, dir_))\n",
    "        date = dir_.split(\"_\")[0]\n",
    "        \n",
    "        # loop through the files\n",
    "        for file in files:\n",
    "            if '.xml' not in file:\n",
    "                continue\n",
    "                \n",
    "            # read the contents of the file\n",
    "            with io.open(os.path.join(data_path, dir_, file), 'r', encoding=\"utf-8\") as f:\n",
    "                xml = f.read()\n",
    "                parsed_xml = xmltodict.parse(xml)\n",
    "                parsed_xmls.append(parsed_xml)\n",
    "                forms_section = parsed_xml['TED_EXPORT']['FORM_SECTION']\n",
    "                notice_data = parsed_xml['TED_EXPORT']['CODED_DATA_SECTION']['NOTICE_DATA']\n",
    "                codif_data = parsed_xml['TED_EXPORT']['CODED_DATA_SECTION']['CODIF_DATA']\n",
    "                \n",
    "                forms = forms_section.keys()\n",
    "                \n",
    "                for form in forms:\n",
    "                    try:\n",
    "                        form_contents = forms_section[form]\n",
    "                        form_contents['DATE'] = date\n",
    "                        form_contents['FILE'] = file\n",
    "                        form_contents['NO_DOC_OJS'] = notice_data['NO_DOC_OJS']\n",
    "                        form_contents['ORIGINAL_CPV_CODE'] = notice_data['ORIGINAL_CPV']['@CODE']\n",
    "                        form_contents['ORIGINAL_CPV_TEXT'] = notice_data['ORIGINAL_CPV']['#text']\n",
    "                        form_contents['VALUE'] = notice_data['VALUES']['VALUE']['#text']\n",
    "                        form_contents['VALUE_CURR'] = notice_data['VALUES']['VALUE']['@CURRENCY']\n",
    "                        form_contents['REF_NO'] = notice_data['REF_NOTICE']['NO_DOC_OJS']\n",
    "                        \n",
    "                        if isinstance(form_contents, list):\n",
    "                            for i, form_contents in enumerate(fred):\n",
    "                                all_tenders.append(form_contents[i])\n",
    "                                if language is not None and form_contents['@LG'] == language:\n",
    "                                    language_tenders.append(form_contents[i])\n",
    "                        elif isinstance(form_contents, collections.OrderedDict):\n",
    "                            all_tenders.append(form_contents)\n",
    "                            if language is not None and form_contents['@LG'] == language:\n",
    "                                language_tenders.append(form_contents)\n",
    "                    except Exception as e:\n",
    "                        pass\n",
    "\n",
    "    if language == None:\n",
    "        language_tenders = all_tenders\n",
    "\n",
    "    parsed_data = []\n",
    "    for tender in language_tenders:\n",
    "        flattened = {}\n",
    "        \n",
    "        # add some fields\n",
    "        flattened['DATE'] = tender['DATE']\n",
    "        flattened['LG'] = tender['@LG']\n",
    "        flattened['FILE'] = tender['FILE']\n",
    "        flattened['NO_DOC_OJS'] = tender['NO_DOC_OJS']\n",
    "        flattened['ORIGINAL_CPV_CODE'] = tender['ORIGINAL_CPV_CODE']\n",
    "        flattened['ORIGINAL_CPV_TEXT'] = tender['ORIGINAL_CPV_TEXT']\n",
    "        flattened['VALUE'] = tender['VALUE']\n",
    "        flattened['VALUE_CURR'] = tender['VALUE_CURR']\n",
    "        flattened['REF_NO'] = tender['REF_NO']\n",
    "        try:\n",
    "            for key, value in tender['CONTRACTING_BODY'].items():\n",
    "                address_contracting_body = value\n",
    "                try:\n",
    "                    for key, value in address_contracting_body.items():\n",
    "                        flattened[key.lower()] = value\n",
    "                except:\n",
    "                    pass\n",
    "            \n",
    "            flattened['title'] = tender['OBJECT_CONTRACT']['TITLE']['P']\n",
    "            flattened['short_description'] = tender['OBJECT_CONTRACT']['SHORT_DESCR']['P']\n",
    "            \n",
    "            # unwind some fields\n",
    "            flattened['country'] = flattened['country']['@VALUE']\n",
    "            flattened['n2016:nuts'] = flattened['n2016:nuts']['@CODE']\n",
    "            \n",
    "            parsed_data.append(flattened)\n",
    "        except Exception as e:\n",
    "#             print(\"error:\", e)\n",
    "            pass\n",
    "\n",
    "    df = pd.DataFrame(parsed_data)\n",
    "\n",
    "    return df"
   ]
  },
  {
   "cell_type": "code",
   "execution_count": 30,
   "metadata": {},
   "outputs": [
    {
     "name": "stdout",
     "output_type": "stream",
     "text": [
      "/Users/nfreundl/Documents/UIUC/CS498-CCA/Project/notebooks\n"
     ]
    }
   ],
   "source": [
    "print(os.getcwd())\n",
    "df = load_data(data_path, language=None)"
   ]
  },
  {
   "cell_type": "code",
   "execution_count": 31,
   "metadata": {},
   "outputs": [
    {
     "data": {
      "text/html": [
       "<div>\n",
       "<style scoped>\n",
       "    .dataframe tbody tr th:only-of-type {\n",
       "        vertical-align: middle;\n",
       "    }\n",
       "\n",
       "    .dataframe tbody tr th {\n",
       "        vertical-align: top;\n",
       "    }\n",
       "\n",
       "    .dataframe thead th {\n",
       "        text-align: right;\n",
       "    }\n",
       "</style>\n",
       "<table border=\"1\" class=\"dataframe\">\n",
       "  <thead>\n",
       "    <tr style=\"text-align: right;\">\n",
       "      <th></th>\n",
       "      <th>@value</th>\n",
       "      <th>DATE</th>\n",
       "      <th>FILE</th>\n",
       "      <th>LG</th>\n",
       "      <th>NO_DOC_OJS</th>\n",
       "      <th>ORIGINAL_CPV_CODE</th>\n",
       "      <th>ORIGINAL_CPV_TEXT</th>\n",
       "      <th>REF_NO</th>\n",
       "      <th>VALUE</th>\n",
       "      <th>VALUE_CURR</th>\n",
       "      <th>...</th>\n",
       "      <th>n2016:nuts</th>\n",
       "      <th>nationalid</th>\n",
       "      <th>officialname</th>\n",
       "      <th>phone</th>\n",
       "      <th>postal_code</th>\n",
       "      <th>short_description</th>\n",
       "      <th>title</th>\n",
       "      <th>town</th>\n",
       "      <th>url_buyer</th>\n",
       "      <th>url_general</th>\n",
       "    </tr>\n",
       "  </thead>\n",
       "  <tbody>\n",
       "    <tr>\n",
       "      <th>0</th>\n",
       "      <td>GENERAL_PUBLIC_SERVICES</td>\n",
       "      <td>2019</td>\n",
       "      <td>010177_2019.xml</td>\n",
       "      <td>DE</td>\n",
       "      <td>2019/S 006-010177</td>\n",
       "      <td>71327000</td>\n",
       "      <td>Load-bearing structure design services</td>\n",
       "      <td>2018/S 123-123456</td>\n",
       "      <td>0.01</td>\n",
       "      <td>EUR</td>\n",
       "      <td>...</td>\n",
       "      <td>DE118</td>\n",
       "      <td>NaN</td>\n",
       "      <td>Stadt Gundelsheim</td>\n",
       "      <td>+49 6269-9630</td>\n",
       "      <td>74831</td>\n",
       "      <td>Der Auftrag umfasst die Fachplanungsleistungen...</td>\n",
       "      <td>Neubau einer Kindertageseinrichtung/Fachplanun...</td>\n",
       "      <td>Gundelsheim</td>\n",
       "      <td>NaN</td>\n",
       "      <td>www.Gundelsheim.de</td>\n",
       "    </tr>\n",
       "    <tr>\n",
       "      <th>1</th>\n",
       "      <td>PUBLIC_ORDER_AND_SAFETY</td>\n",
       "      <td>2019</td>\n",
       "      <td>010176_2019.xml</td>\n",
       "      <td>DE</td>\n",
       "      <td>2019/S 006-010176</td>\n",
       "      <td>85300000</td>\n",
       "      <td>Social work and related services</td>\n",
       "      <td>2018/S 170-387063</td>\n",
       "      <td>17694423.22</td>\n",
       "      <td>EUR</td>\n",
       "      <td>...</td>\n",
       "      <td>DEA1</td>\n",
       "      <td>NaN</td>\n",
       "      <td>Ministerium des Innern des Landes NRW</td>\n",
       "      <td>+49 211 / 871-01</td>\n",
       "      <td>40217</td>\n",
       "      <td>Dienstleistung „Pädagogische Fachkraft“ für di...</td>\n",
       "      <td>Dienstleistung „Pädagogische Fachkraft“ für di...</td>\n",
       "      <td>Düsseldorf</td>\n",
       "      <td>NaN</td>\n",
       "      <td>www.im.nrw.de</td>\n",
       "    </tr>\n",
       "    <tr>\n",
       "      <th>2</th>\n",
       "      <td>BODY_PUBLIC</td>\n",
       "      <td>2019</td>\n",
       "      <td>009154_2019.xml</td>\n",
       "      <td>EN</td>\n",
       "      <td>2019/S 006-009154</td>\n",
       "      <td>50241100</td>\n",
       "      <td>Vessel repair services</td>\n",
       "      <td>2018/S 210-480099</td>\n",
       "      <td>279360</td>\n",
       "      <td>EUR</td>\n",
       "      <td>...</td>\n",
       "      <td>UKM</td>\n",
       "      <td>NaN</td>\n",
       "      <td>CalMac Ferries Ltd</td>\n",
       "      <td>+44 1475650252</td>\n",
       "      <td>PA19 1QP</td>\n",
       "      <td>Upgrade of electric controls for 3 existing ST...</td>\n",
       "      <td>Upgrade of Electrical Controls</td>\n",
       "      <td>Gourock</td>\n",
       "      <td>https://www.publiccontractsscotland.gov.uk/sea...</td>\n",
       "      <td>www.calmac.co.uk</td>\n",
       "    </tr>\n",
       "    <tr>\n",
       "      <th>3</th>\n",
       "      <td>RECREATION_CULTURE_AND_RELIGION</td>\n",
       "      <td>2019</td>\n",
       "      <td>009155_2019.xml</td>\n",
       "      <td>EL</td>\n",
       "      <td>2019/S 006-009155</td>\n",
       "      <td>14621000</td>\n",
       "      <td>Ferro-alloys</td>\n",
       "      <td>2018/S 145-331246</td>\n",
       "      <td>233475.89</td>\n",
       "      <td>EUR</td>\n",
       "      <td>...</td>\n",
       "      <td>EL521</td>\n",
       "      <td>NaN</td>\n",
       "      <td>Υπουργείο Πολιτισμού και Αθλητισμού - Εφορεία ...</td>\n",
       "      <td>+30 2331029737</td>\n",
       "      <td>591 32</td>\n",
       "      <td>Προμήθεια ανοξείδωτου οπλισμού — Τμήμα Β, για ...</td>\n",
       "      <td>«Προμήθεια ανοξείδωτου οπλισμού — Τμήμα Β», γι...</td>\n",
       "      <td>Βέροια</td>\n",
       "      <td>NaN</td>\n",
       "      <td>www.yppo.gr</td>\n",
       "    </tr>\n",
       "    <tr>\n",
       "      <th>4</th>\n",
       "      <td>MINISTRY</td>\n",
       "      <td>2019</td>\n",
       "      <td>009666_2019.xml</td>\n",
       "      <td>CS</td>\n",
       "      <td>2019/S 006-009666</td>\n",
       "      <td>55511000</td>\n",
       "      <td>Canteen and other restricted-clientele cafeter...</td>\n",
       "      <td>2018/S 218-499498</td>\n",
       "      <td>2510875.00</td>\n",
       "      <td>CZK</td>\n",
       "      <td>...</td>\n",
       "      <td>CZ01</td>\n",
       "      <td>72080043</td>\n",
       "      <td>Česká republika - Generální finanční ředitelství</td>\n",
       "      <td>+420 296851826</td>\n",
       "      <td>117 22</td>\n",
       "      <td>Předmětem veřejné zakázky je poskytování služe...</td>\n",
       "      <td>Závodní stravování v budově Generálního finanč...</td>\n",
       "      <td>Praha 1</td>\n",
       "      <td>https://nen.nipez.cz/profil/gfrnen</td>\n",
       "      <td>http://www.financnisprava.cz</td>\n",
       "    </tr>\n",
       "  </tbody>\n",
       "</table>\n",
       "<p>5 rows × 25 columns</p>\n",
       "</div>"
      ],
      "text/plain": [
       "                            @value  DATE             FILE  LG  \\\n",
       "0          GENERAL_PUBLIC_SERVICES  2019  010177_2019.xml  DE   \n",
       "1          PUBLIC_ORDER_AND_SAFETY  2019  010176_2019.xml  DE   \n",
       "2                      BODY_PUBLIC  2019  009154_2019.xml  EN   \n",
       "3  RECREATION_CULTURE_AND_RELIGION  2019  009155_2019.xml  EL   \n",
       "4                         MINISTRY  2019  009666_2019.xml  CS   \n",
       "\n",
       "          NO_DOC_OJS ORIGINAL_CPV_CODE  \\\n",
       "0  2019/S 006-010177          71327000   \n",
       "1  2019/S 006-010176          85300000   \n",
       "2  2019/S 006-009154          50241100   \n",
       "3  2019/S 006-009155          14621000   \n",
       "4  2019/S 006-009666          55511000   \n",
       "\n",
       "                                   ORIGINAL_CPV_TEXT             REF_NO  \\\n",
       "0             Load-bearing structure design services  2018/S 123-123456   \n",
       "1                   Social work and related services  2018/S 170-387063   \n",
       "2                             Vessel repair services  2018/S 210-480099   \n",
       "3                                       Ferro-alloys  2018/S 145-331246   \n",
       "4  Canteen and other restricted-clientele cafeter...  2018/S 218-499498   \n",
       "\n",
       "         VALUE VALUE_CURR  ... n2016:nuts nationalid  \\\n",
       "0         0.01        EUR  ...      DE118        NaN   \n",
       "1  17694423.22        EUR  ...       DEA1        NaN   \n",
       "2       279360        EUR  ...        UKM        NaN   \n",
       "3    233475.89        EUR  ...      EL521        NaN   \n",
       "4   2510875.00        CZK  ...       CZ01   72080043   \n",
       "\n",
       "                                        officialname             phone  \\\n",
       "0                                  Stadt Gundelsheim     +49 6269-9630   \n",
       "1              Ministerium des Innern des Landes NRW  +49 211 / 871-01   \n",
       "2                                 CalMac Ferries Ltd    +44 1475650252   \n",
       "3  Υπουργείο Πολιτισμού και Αθλητισμού - Εφορεία ...    +30 2331029737   \n",
       "4   Česká republika - Generální finanční ředitelství    +420 296851826   \n",
       "\n",
       "  postal_code                                  short_description  \\\n",
       "0       74831  Der Auftrag umfasst die Fachplanungsleistungen...   \n",
       "1       40217  Dienstleistung „Pädagogische Fachkraft“ für di...   \n",
       "2    PA19 1QP  Upgrade of electric controls for 3 existing ST...   \n",
       "3      591 32  Προμήθεια ανοξείδωτου οπλισμού — Τμήμα Β, για ...   \n",
       "4      117 22  Předmětem veřejné zakázky je poskytování služe...   \n",
       "\n",
       "                                               title         town  \\\n",
       "0  Neubau einer Kindertageseinrichtung/Fachplanun...  Gundelsheim   \n",
       "1  Dienstleistung „Pädagogische Fachkraft“ für di...   Düsseldorf   \n",
       "2                     Upgrade of Electrical Controls      Gourock   \n",
       "3  «Προμήθεια ανοξείδωτου οπλισμού — Τμήμα Β», γι...       Βέροια   \n",
       "4  Závodní stravování v budově Generálního finanč...      Praha 1   \n",
       "\n",
       "                                           url_buyer  \\\n",
       "0                                                NaN   \n",
       "1                                                NaN   \n",
       "2  https://www.publiccontractsscotland.gov.uk/sea...   \n",
       "3                                                NaN   \n",
       "4                 https://nen.nipez.cz/profil/gfrnen   \n",
       "\n",
       "                    url_general  \n",
       "0            www.Gundelsheim.de  \n",
       "1                 www.im.nrw.de  \n",
       "2              www.calmac.co.uk  \n",
       "3                   www.yppo.gr  \n",
       "4  http://www.financnisprava.cz  \n",
       "\n",
       "[5 rows x 25 columns]"
      ]
     },
     "execution_count": 31,
     "metadata": {},
     "output_type": "execute_result"
    }
   ],
   "source": [
    "df.head()"
   ]
  },
  {
   "cell_type": "code",
   "execution_count": 33,
   "metadata": {},
   "outputs": [
    {
     "data": {
      "text/plain": [
       "Index(['@value', 'DATE', 'FILE', 'LG', 'NO_DOC_OJS', 'ORIGINAL_CPV_CODE',\n",
       "       'ORIGINAL_CPV_TEXT', 'REF_NO', 'VALUE', 'VALUE_CURR', 'address',\n",
       "       'contact_point', 'country', 'e_mail', 'fax', 'n2016:nuts', 'nationalid',\n",
       "       'officialname', 'phone', 'postal_code', 'short_description', 'title',\n",
       "       'town', 'url_buyer', 'url_general'],\n",
       "      dtype='object')"
      ]
     },
     "execution_count": 33,
     "metadata": {},
     "output_type": "execute_result"
    }
   ],
   "source": [
    "df.columns"
   ]
  },
  {
   "cell_type": "code",
   "execution_count": 71,
   "metadata": {},
   "outputs": [],
   "source": [
    "# convert all currencies to EUR\n",
    "def convert_currencies(values, currencies):\n",
    "    url = \"https://api.exchangeratesapi.io/latest\"\n",
    "    content = urllib.request.urlopen(url).read()\n",
    "    exchange_rates = json.loads(content.decode())\n",
    "    results = []\n",
    "    \n",
    "    for value, currency in zip(values, currencies):\n",
    "        if currency == \"EUR\":\n",
    "            results.append(value)\n",
    "            \n",
    "        else:\n",
    "            try:\n",
    "                exchange_rate = exchange_rates['rates'][currency]\n",
    "                converted_value = float(value) / exchange_rate\n",
    "                results.append(converted_value)\n",
    "            # if we don't have a rate for the currency use NaN\n",
    "            except:\n",
    "                results.append(np.nan)\n",
    "                \n",
    "    return results\n",
    "\n",
    "df['VALUE_EUR'] = convert_currencies(df['VALUE'].values, df['VALUE_CURR'].values)\n",
    "df['VALUE_EUR'] = df['VALUE_EUR'].astype(float)"
   ]
  },
  {
   "cell_type": "code",
   "execution_count": 72,
   "metadata": {},
   "outputs": [
    {
     "data": {
      "image/png": "[encoded data removed]",
      "text/plain": [
       "<Figure size 432x288 with 1 Axes>"
      ]
     },
     "metadata": {
      "needs_background": "light"
     },
     "output_type": "display_data"
    }
   ],
   "source": [
    "languages = pd.value_counts(df.LG)\n",
    "for i, lang in enumerate(languages.index[:15]):\n",
    "    plt.bar(i, languages[lang], label=lang)\n",
    "    \n",
    "plt.legend(bbox_to_anchor=(1,1))\n",
    "plt.title(\"Top 15 Languages\")\n",
    "plt.show()"
   ]
  },
  {
   "cell_type": "code",
   "execution_count": 73,
   "metadata": {},
   "outputs": [
    {
     "data": {
      "image/png": "[encoded data removed]",
      "text/plain": [
       "<Figure size 720x360 with 1 Axes>"
      ]
     },
     "metadata": {
      "needs_background": "light"
     },
     "output_type": "display_data"
    }
   ],
   "source": [
    "values = df['VALUE_EUR'].astype(\"float\")\n",
    "plt.figure(figsize=(10,5))\n",
    "plt.hist(values[values < 2000000] , bins=50)\n",
    "plt.title(\"Values (< 2 million EUR)\")\n",
    "plt.ylim(0, 300)\n",
    "plt.show()"
   ]
  },
  {
   "cell_type": "code",
   "execution_count": 74,
   "metadata": {},
   "outputs": [
    {
     "data": {
      "image/png": "[encoded data removed]",
      "text/plain": [
       "<Figure size 432x288 with 1 Axes>"
      ]
     },
     "metadata": {
      "needs_background": "light"
     },
     "output_type": "display_data"
    }
   ],
   "source": [
    "countries = pd.value_counts(df['country'])\n",
    "for i, country in enumerate(countries.index[:15]):\n",
    "    plt.bar(i, countries[country], label=country)\n",
    "    \n",
    "plt.legend(bbox_to_anchor=(1,1))\n",
    "plt.title(\"Top 15 Countries\")\n",
    "plt.show()"
   ]
  },
  {
   "cell_type": "markdown",
   "metadata": {},
   "source": [
    "## Group by country by value"
   ]
  },
  {
   "cell_type": "code",
   "execution_count": 116,
   "metadata": {},
   "outputs": [
    {
     "data": {
      "text/plain": [
       "<matplotlib.axes._subplots.AxesSubplot at 0x1286f28d0>"
      ]
     },
     "execution_count": 116,
     "metadata": {},
     "output_type": "execute_result"
    },
    {
     "data": {
      "image/png": "[encoded data removed]",
      "text/plain": [
       "<Figure size 432x288 with 1 Axes>"
      ]
     },
     "metadata": {
      "needs_background": "light"
     },
     "output_type": "display_data"
    }
   ],
   "source": [
    "df_q3_1 = df[[\"country\", 'VALUE_EUR']]\n",
    "df_q3_2 = df_q3_1.groupby(['country'], as_index=False).sum().sort_values(by=['VALUE_EUR'], ascending=False).reset_index()\n",
    "df_q3_2.head(10).plot(x = 'country', y = 'VALUE_EUR', kind='bar')"
   ]
  },
  {
   "cell_type": "code",
   "execution_count": null,
   "metadata": {},
   "outputs": [],
   "source": []
  }
 ],
 "metadata": {
  "celltoolbar": "Edit Metadata",
  "kernelspec": {
   "display_name": "Python 3",
   "language": "python",
   "name": "python3"
  },
  "language_info": {
   "codemirror_mode": {
    "name": "ipython",
    "version": 3
   },
   "file_extension": ".py",
   "mimetype": "text/x-python",
   "name": "python",
   "nbconvert_exporter": "python",
   "pygments_lexer": "ipython3",
   "version": "3.7.1"
  }
 },
 "nbformat": 4,
 "nbformat_minor": 2
}
