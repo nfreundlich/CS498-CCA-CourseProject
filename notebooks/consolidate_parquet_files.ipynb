{
 "cells": [
  {
   "cell_type": "code",
   "execution_count": 1,
   "metadata": {},
   "outputs": [],
   "source": [
    "import pandas as pd\n",
    "import boto3\n",
    "import os"
   ]
  },
  {
   "cell_type": "code",
   "execution_count": 2,
   "metadata": {},
   "outputs": [],
   "source": [
    "s3 = boto3.resource('s3')\n",
    "AWS_BUCKET_NAME = '1-cca-ted-extracted-dev'"
   ]
  },
  {
   "cell_type": "code",
   "execution_count": 7,
   "metadata": {},
   "outputs": [],
   "source": [
    "# get all of the parquet files from a specific month and download them\n",
    "prefix = \"201901\"\n",
    "bucket = s3.Bucket(AWS_BUCKET_NAME)\n",
    "data_path = \"pq_dls\""
   ]
  },
  {
   "cell_type": "code",
   "execution_count": 8,
   "metadata": {},
   "outputs": [],
   "source": [
    "downloaded_files = []\n",
    "for obj in bucket.objects.filter(Prefix=prefix):\n",
    "    key_to_download = obj.key\n",
    "    \n",
    "    # download the parquet file\n",
    "    bucket.download_file(key_to_download, os.path.join(data_path, key_to_download))\n",
    "    \n",
    "    downloaded_files.append(key_to_download)"
   ]
  },
  {
   "cell_type": "code",
   "execution_count": 9,
   "metadata": {},
   "outputs": [],
   "source": [
    "df = pd.read_parquet(os.path.join(data_path, downloaded_files[0]))\n",
    "for file in downloaded_files[1:]:\n",
    "    df1 = pd.read_parquet(os.path.join(data_path, file))\n",
    "    df = pd.concat([df, df1], axis=0)            "
   ]
  },
  {
   "cell_type": "code",
   "execution_count": 10,
   "metadata": {},
   "outputs": [],
   "source": [
    "file_name = prefix + \"00_ALL.parquet\"\n",
    "file_path = os.path.join(data_path, file_name)\n",
    "df.to_parquet(file_path)"
   ]
  },
  {
   "cell_type": "code",
   "execution_count": 11,
   "metadata": {},
   "outputs": [
    {
     "name": "stdout",
     "output_type": "stream",
     "text": [
      "File uploaded\n"
     ]
    }
   ],
   "source": [
    "# upload the new parquet file back up to S3\n",
    "s3.meta.client.upload_file(Filename = file_path, Bucket = AWS_BUCKET_NAME, Key = file_name)\n",
    "print(\"File uploaded\")\n",
    "\n",
    "# maybe delete the old individual files?\n",
    "for key in downloaded_files:\n",
    "    s3.Object(AWS_BUCKET_NAME, key).delete()"
   ]
  },
  {
   "cell_type": "code",
   "execution_count": 13,
   "metadata": {},
   "outputs": [],
   "source": [
    "file_name = \"20190301_2019043.parquet\""
   ]
  },
  {
   "cell_type": "code",
   "execution_count": 14,
   "metadata": {},
   "outputs": [
    {
     "name": "stdout",
     "output_type": "stream",
     "text": [
      "File doesn't exist\n"
     ]
    }
   ],
   "source": [
    "# try to download current month's parquet file\n",
    "month_file = file_name[:6] + \"00_ALL.parquet\"\n",
    "data_file_path = os.path.join(data_path, month_file)\n",
    "try:\n",
    "    bucket.download_file(month_file,data_file_path)\n",
    "    \n",
    "    # append current data to it\n",
    "    month_df = pd.read_parquet(data_file_path)\n",
    "    month_df = pd.concat([month_df, df], axis=0)\n",
    "    \n",
    "    # write it back to Parquet\n",
    "    month_df.to_parquet(data_file_path)\n",
    "except:\n",
    "    # if it doesn't exist we will use the current file\n",
    "    df.to_parquet(data_file_path)\n",
    "    \n",
    "# upload the new file to S3\n",
    "s3.meta.client.upload_file(Filename = data_file_path, Bucket = AWS_BUCKET_NAME, Key = month_file)\n",
    "\n"
   ]
  },
  {
   "cell_type": "code",
   "execution_count": null,
   "metadata": {},
   "outputs": [],
   "source": []
  }
 ],
 "metadata": {
  "kernelspec": {
   "display_name": "Python 3",
   "language": "python",
   "name": "python3"
  },
  "language_info": {
   "codemirror_mode": {
    "name": "ipython",
    "version": 3
   },
   "file_extension": ".py",
   "mimetype": "text/x-python",
   "name": "python",
   "nbconvert_exporter": "python",
   "pygments_lexer": "ipython3",
   "version": "3.6.5"
  }
 },
 "nbformat": 4,
 "nbformat_minor": 2
}
