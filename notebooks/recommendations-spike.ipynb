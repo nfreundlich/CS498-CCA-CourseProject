{
 "cells": [
  {
   "cell_type": "code",
   "execution_count": 71,
   "metadata": {},
   "outputs": [],
   "source": [
    "import numpy as np\n",
    "import pandas as pd\n",
    "from scipy.spatial.distance import cosine\n",
    "from scipy.sparse import coo_matrix\n",
    "from sklearn.neighbors import NearestNeighbors\n",
    "from surprise import SVD\n",
    "import implicit"
   ]
  },
  {
   "cell_type": "code",
   "execution_count": 91,
   "metadata": {},
   "outputs": [],
   "source": [
    "df = pd.read_csv('/Users/aaronfalloon/Downloads/2ea54c57-868c-41f3-a397-18adac14ef15.csv')"
   ]
  },
  {
   "cell_type": "code",
   "execution_count": 92,
   "metadata": {},
   "outputs": [],
   "source": [
    "df.columns = ['service', 'contractor']"
   ]
  },
  {
   "cell_type": "code",
   "execution_count": 93,
   "metadata": {},
   "outputs": [],
   "source": [
    "df = df.query('contractor != \"[null]\"')"
   ]
  },
  {
   "cell_type": "code",
   "execution_count": 94,
   "metadata": {},
   "outputs": [],
   "source": [
    "services = []\n",
    "contractors = []"
   ]
  },
  {
   "cell_type": "code",
   "execution_count": 95,
   "metadata": {},
   "outputs": [],
   "source": [
    "for row in df.itertuples(index=False):\n",
    "    row_services = row[0][1: -1].split(',')\n",
    "    row_contractors = row[1][1: -1].split(',')\n",
    "    if len(row_services) > 1 and len(row_services) != len(row_contractors):\n",
    "        continue\n",
    "    if len(row_services) == 1:\n",
    "        services += (row_services * len(row_contractors))\n",
    "    else:\n",
    "        services += row_services\n",
    "    contractors += row_contractors"
   ]
  },
  {
   "cell_type": "code",
   "execution_count": 96,
   "metadata": {},
   "outputs": [],
   "source": [
    "final = pd.DataFrame()\n",
    "final = final.assign(service=services)\n",
    "final = final.assign(contractor=contractors)"
   ]
  },
  {
   "cell_type": "code",
   "execution_count": 97,
   "metadata": {
    "scrolled": false
   },
   "outputs": [
    {
     "data": {
      "text/html": [
       "<div>\n",
       "<style scoped>\n",
       "    .dataframe tbody tr th:only-of-type {\n",
       "        vertical-align: middle;\n",
       "    }\n",
       "\n",
       "    .dataframe tbody tr th {\n",
       "        vertical-align: top;\n",
       "    }\n",
       "\n",
       "    .dataframe thead th {\n",
       "        text-align: right;\n",
       "    }\n",
       "</style>\n",
       "<table border=\"1\" class=\"dataframe\">\n",
       "  <thead>\n",
       "    <tr style=\"text-align: right;\">\n",
       "      <th></th>\n",
       "      <th>service</th>\n",
       "      <th>contractor</th>\n",
       "    </tr>\n",
       "  </thead>\n",
       "  <tbody>\n",
       "    <tr>\n",
       "      <th>0</th>\n",
       "      <td>Timber harvesting services</td>\n",
       "      <td>S.C. Narilserv S.R.L.</td>\n",
       "    </tr>\n",
       "    <tr>\n",
       "      <th>1</th>\n",
       "      <td>Refuse-collection vehicles</td>\n",
       "      <td>Moteco Service S.r.l.</td>\n",
       "    </tr>\n",
       "    <tr>\n",
       "      <th>2</th>\n",
       "      <td>Urban furniture</td>\n",
       "      <td>Ondelia</td>\n",
       "    </tr>\n",
       "    <tr>\n",
       "      <th>3</th>\n",
       "      <td>Pharmaceutical products</td>\n",
       "      <td>Janssen-Cilag Polska Sp. z o.o.</td>\n",
       "    </tr>\n",
       "    <tr>\n",
       "      <th>4</th>\n",
       "      <td>Performance review services</td>\n",
       "      <td>Wiesława Fabian</td>\n",
       "    </tr>\n",
       "    <tr>\n",
       "      <th>5</th>\n",
       "      <td>Performance review services</td>\n",
       "      <td>Izabela Maria Małyszko</td>\n",
       "    </tr>\n",
       "    <tr>\n",
       "      <th>6</th>\n",
       "      <td>Performance review services</td>\n",
       "      <td>Indywidualna Specjalistyczna Praktyka Lekarsk...</td>\n",
       "    </tr>\n",
       "    <tr>\n",
       "      <th>7</th>\n",
       "      <td>Performance review services</td>\n",
       "      <td>Jolanta Foltman</td>\n",
       "    </tr>\n",
       "    <tr>\n",
       "      <th>8</th>\n",
       "      <td>Performance review services</td>\n",
       "      <td>Mariusz Domański Prywatna Praktyka Lekarska</td>\n",
       "    </tr>\n",
       "    <tr>\n",
       "      <th>9</th>\n",
       "      <td>Performance review services</td>\n",
       "      <td>Agnieszka Jankowska-Zduńczyk</td>\n",
       "    </tr>\n",
       "  </tbody>\n",
       "</table>\n",
       "</div>"
      ],
      "text/plain": [
       "                       service  \\\n",
       "0   Timber harvesting services   \n",
       "1   Refuse-collection vehicles   \n",
       "2              Urban furniture   \n",
       "3      Pharmaceutical products   \n",
       "4  Performance review services   \n",
       "5  Performance review services   \n",
       "6  Performance review services   \n",
       "7  Performance review services   \n",
       "8  Performance review services   \n",
       "9  Performance review services   \n",
       "\n",
       "                                          contractor  \n",
       "0                              S.C. Narilserv S.R.L.  \n",
       "1                              Moteco Service S.r.l.  \n",
       "2                                            Ondelia  \n",
       "3                    Janssen-Cilag Polska Sp. z o.o.  \n",
       "4                                    Wiesława Fabian  \n",
       "5                             Izabela Maria Małyszko  \n",
       "6   Indywidualna Specjalistyczna Praktyka Lekarsk...  \n",
       "7                                    Jolanta Foltman  \n",
       "8        Mariusz Domański Prywatna Praktyka Lekarska  \n",
       "9                       Agnieszka Jankowska-Zduńczyk  "
      ]
     },
     "execution_count": 97,
     "metadata": {},
     "output_type": "execute_result"
    }
   ],
   "source": [
    "final.iloc[:10, :]"
   ]
  },
  {
   "cell_type": "code",
   "execution_count": 98,
   "metadata": {},
   "outputs": [],
   "source": [
    "services_unique = final['service'].unique()"
   ]
  },
  {
   "cell_type": "code",
   "execution_count": 99,
   "metadata": {},
   "outputs": [],
   "source": [
    "services_map = dict(zip(services_unique, range(0, len(services_unique))))"
   ]
  },
  {
   "cell_type": "code",
   "execution_count": 100,
   "metadata": {},
   "outputs": [],
   "source": [
    "contractors_unique = final['contractor'].unique()"
   ]
  },
  {
   "cell_type": "code",
   "execution_count": 101,
   "metadata": {},
   "outputs": [],
   "source": [
    "contractors_map = dict(zip(contractors_unique, range(0, len(contractors_unique))))"
   ]
  },
  {
   "cell_type": "code",
   "execution_count": 102,
   "metadata": {},
   "outputs": [],
   "source": [
    "service_by_contractor = np.zeros((len(services_unique), len(contractors_unique)))"
   ]
  },
  {
   "cell_type": "code",
   "execution_count": 103,
   "metadata": {},
   "outputs": [],
   "source": [
    "for row in final.itertuples(index=False):\n",
    "    service_by_contractor[services_map[row[0]], contractors_map[row[1]]] = 1"
   ]
  },
  {
   "cell_type": "code",
   "execution_count": 105,
   "metadata": {},
   "outputs": [],
   "source": [
    "service_by_contractor_sparse = coo_matrix(service_by_contractor)"
   ]
  },
  {
   "cell_type": "code",
   "execution_count": 106,
   "metadata": {},
   "outputs": [],
   "source": [
    "model = implicit.als.AlternatingLeastSquares(factors=50)"
   ]
  },
  {
   "cell_type": "code",
   "execution_count": 107,
   "metadata": {},
   "outputs": [
    {
     "name": "stderr",
     "output_type": "stream",
     "text": [
      "100%|██████████| 15.0/15 [01:20<00:00,  4.51s/it]\n"
     ]
    }
   ],
   "source": [
    "model.fit(service_by_contractor_sparse)"
   ]
  },
  {
   "cell_type": "code",
   "execution_count": 118,
   "metadata": {},
   "outputs": [],
   "source": [
    "user_items = service_by_contractor_sparse.T.tocsr()"
   ]
  },
  {
   "cell_type": "code",
   "execution_count": 138,
   "metadata": {},
   "outputs": [
    {
     "name": "stdout",
     "output_type": "stream",
     "text": [
      "Helder\n"
     ]
    },
    {
     "data": {
      "text/plain": [
       "[('Cleaning and sanitation services', 0.06214285),\n",
       " ('Office cleaning services', 0.016611602),\n",
       " ('School cleaning services', 0.007089855),\n",
       " ('Horticultural services', 0.0055942712),\n",
       " ('Translation services', 0.0055882726),\n",
       " ('Accommodation', 0.004304366),\n",
       " ('Timber harvesting services', 0.0038818605),\n",
       " ('Taxi services', 0.0035873428),\n",
       " ('Network equipment', 0.003251581),\n",
       " ('Orthopaedic prostheses', 0.003213107)]"
      ]
     },
     "execution_count": 138,
     "metadata": {},
     "output_type": "execute_result"
    }
   ],
   "source": [
    "user_id = 9091\n",
    "print(contractors_unique[user_id])\n",
    "recs = model.recommend(user_id, user_items)\n",
    "indices = [rec[0] for rec in recs]\n",
    "[(services_unique[rec[0]], rec[1]) for rec in recs]"
   ]
  },
  {
   "cell_type": "code",
   "execution_count": null,
   "metadata": {},
   "outputs": [],
   "source": []
  }
 ],
 "metadata": {
  "kernelspec": {
   "display_name": "Python 3",
   "language": "python",
   "name": "python3"
  },
  "language_info": {
   "codemirror_mode": {
    "name": "ipython",
    "version": 3
   },
   "file_extension": ".py",
   "mimetype": "text/x-python",
   "name": "python",
   "nbconvert_exporter": "python",
   "pygments_lexer": "ipython3",
   "version": "3.7.2"
  }
 },
 "nbformat": 4,
 "nbformat_minor": 2
}
