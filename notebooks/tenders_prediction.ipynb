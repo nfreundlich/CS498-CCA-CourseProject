{
 "cells": [
  {
   "cell_type": "markdown",
   "metadata": {
    "colab_type": "text",
    "id": "_MhIUBm0G4Bu"
   },
   "source": [
    "I ran this query in Athena:\n",
    "\n",
    "```\n",
    "select m.aa_authority_type__code, m.ac_award_crit__code, m.iso_country__value, m.nc_contract_nature__code, m.original_cpv_code, m.pr_proc__code, m.rp_regulation__code, m.td_document_type__code, m.ty_type_bid__code, m.ma_main_activities__code, m.main_ma_main_activities__code, m.contracting_body__address_contracting_body__country__value,m.object_contract__title, m.object_contract__type_contract__ctype, m.object_contract__cpv_main__cpv_code__code, m.object_contract__short_descr, m.object_contract__object_descr__n2016_nuts__code, m.legal_basis__value, m.year, m_1.value_eur,\n",
    "m_1.total_tenders_received\n",
    "from merged as m\n",
    "inner join merged as m_1 on m_1.ref_no = m.no_doc_ojs\n",
    "where m_1.td_document_type = 'Contract award notice'\n",
    "and m.td_document_type = 'Contract notice'\n",
    "and m_1.TOTAL_TENDERS_RECEIVED != 0\n",
    "and m.value_eur >= 0\n",
    "limit 100000\n",
    "```\n"
   ]
  },
  {
   "cell_type": "code",
   "execution_count": null,
   "metadata": {
    "colab": {},
    "colab_type": "code",
    "id": "tRwVgnycG4Bx"
   },
   "outputs": [],
   "source": [
    "import numpy as np\n",
    "import pandas as pd\n",
    "from sklearn.ensemble import RandomForestRegressor, ExtraTreesRegressor\n",
    "from sklearn.linear_model import LinearRegression\n",
    "from sklearn.model_selection import train_test_split\n",
    "from sklearn.metrics import accuracy_score, mean_squared_error, r2_score\n",
    "from matplotlib import pyplot as plt\n",
    "%matplotlib inline"
   ]
  },
  {
   "cell_type": "code",
   "execution_count": null,
   "metadata": {
    "colab": {
     "base_uri": "https://localhost:8080/",
     "height": 73,
     "resources": {
      "http://localhost:8080/nbextensions/google.colab/files.js": {
       "data": "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",
       "headers": [
        [
         "content-type",
         "application/javascript"
        ]
       ],
       "ok": true,
       "status": 200,
       "status_text": ""
      }
     }
    },
    "colab_type": "code",
    "id": "DALmKozxHeAd",
    "outputId": "8a0b83ba-7ba8-4050-b7b4-3bc039ea0cdf"
   },
   "outputs": [],
   "source": [
    "# from google.colab import files\n",
    "# uploaded = files.upload()\n"
   ]
  },
  {
   "cell_type": "code",
   "execution_count": null,
   "metadata": {
    "colab": {
     "base_uri": "https://localhost:8080/",
     "height": 463
    },
    "colab_type": "code",
    "id": "5zq2irUhIVxZ",
    "outputId": "62c02622-fb3b-4ef6-90ac-12737a46112c"
   },
   "outputs": [],
   "source": [
    "# import io\n",
    "# data = pd.read_csv(io.BytesIO(uploaded['num_tenders_data.csv']))\n",
    "# data.head()"
   ]
  },
  {
   "cell_type": "code",
   "execution_count": null,
   "metadata": {
    "colab": {
     "base_uri": "https://localhost:8080/",
     "height": 463
    },
    "colab_type": "code",
    "id": "BJArgdvGG5Lx",
    "outputId": "bf29f37f-569b-4ccc-85f5-61e00617ae7b"
   },
   "outputs": [],
   "source": [
    "data = pd.read_csv(\"https://s3.eu-west-3.amazonaws.com/deep.skoo.ch/cca/num_tenders_data.csv\")\n",
    "data.head()"
   ]
  },
  {
   "cell_type": "code",
   "execution_count": null,
   "metadata": {
    "colab": {},
    "colab_type": "code",
    "id": "1P2nTRzFG5L9"
   },
   "outputs": [],
   "source": [
    "clip_values = [0, 1000]\n",
    "\n",
    "# drop rows without value_eur\n",
    "data.dropna(axis=0, subset=['value_eur'], inplace=True)\n",
    "\n",
    "# drop rows with total_tenders_received > 2000\n",
    "data = data[data['total_tenders_received'] <= clip_values[1]]\n",
    "\n",
    "# drop rows with values < 1,000\n",
    "data = data[data['value_eur'] > 10000]\n",
    "\n",
    "# and drop rows with values > 1e10\n",
    "data = data[data['value_eur'] < 1e10]\n",
    "\n",
    "y = data['total_tenders_received'].values"
   ]
  },
  {
   "cell_type": "code",
   "execution_count": null,
   "metadata": {
    "colab": {},
    "colab_type": "code",
    "id": "uquxQHTYG5MF"
   },
   "outputs": [],
   "source": [
    "def list_to_item(x):\n",
    "    try:\n",
    "        return x.replace(\"[\", \"\").replace(\"]\", \"\").split(\",\")[0].strip()\n",
    "    except:\n",
    "        return \"\""
   ]
  },
  {
   "cell_type": "code",
   "execution_count": null,
   "metadata": {
    "colab": {},
    "colab_type": "code",
    "id": "VLQuUTfHG6V-"
   },
   "outputs": [],
   "source": [
    "# transformations\n",
    "data['main_cpv_code'] = data['original_cpv_code'].map(lambda x: x.replace(\"[\", \"\").replace(\"]\", \"\").split(\",\")[0].strip()[:2])\n",
    "data['expanded_cpv_code'] = data['original_cpv_code'].map(lambda x: x.replace(\"[\", \"\").replace(\"]\", \"\").split(\",\")[0].strip()[:4])\n",
    "data['main_nuts_code'] = data['object_contract__object_descr__n2016_nuts__code'].map(list_to_item)\n",
    "data['ma_main_activities__code'] = data['ma_main_activities__code'].map(list_to_item)"
   ]
  },
  {
   "cell_type": "code",
   "execution_count": null,
   "metadata": {
    "colab": {},
    "colab_type": "code",
    "id": "WTp4OpQ5T7nd"
   },
   "outputs": [],
   "source": []
  },
  {
   "cell_type": "code",
   "execution_count": null,
   "metadata": {
    "colab": {},
    "colab_type": "code",
    "id": "-erN7K9uG6WF"
   },
   "outputs": [],
   "source": [
    "# drop some columns\n",
    "data.drop(columns=[\"year\", \"legal_basis__value\", \"original_cpv_code\",\"contracting_body__address_contracting_body__country__value\", \"td_document_type__code\", \"main_nuts_code\",\"main_ma_main_activities__code\", \"ty_type_bid__code\", \"object_contract__cpv_main__cpv_code__code\", \"object_contract__title\", \"object_contract__short_descr\", \"total_tenders_received\", \"object_contract__object_descr__n2016_nuts__code\"], inplace=True)"
   ]
  },
  {
   "cell_type": "code",
   "execution_count": null,
   "metadata": {
    "colab": {
     "base_uri": "https://localhost:8080/",
     "height": 197
    },
    "colab_type": "code",
    "id": "m6iGtUMLG6WM",
    "outputId": "b3f8fed4-4cc1-4fd0-f2bc-372fd8518c2e"
   },
   "outputs": [],
   "source": [
    "data.head()"
   ]
  },
  {
   "cell_type": "code",
   "execution_count": null,
   "metadata": {
    "colab": {},
    "colab_type": "code",
    "id": "MQVtu3M_G7y2"
   },
   "outputs": [],
   "source": [
    "cols_to_ohe = ['aa_authority_type__code',  'ac_award_crit__code', 'iso_country__value',\n",
    "     'pr_proc__code', 'rp_regulation__code',\n",
    "       'ma_main_activities__code',\n",
    "       'object_contract__type_contract__ctype',\n",
    "       'main_cpv_code', 'expanded_cpv_code']"
   ]
  },
  {
   "cell_type": "code",
   "execution_count": null,
   "metadata": {
    "colab": {},
    "colab_type": "code",
    "id": "uu4IdGWzG7zB"
   },
   "outputs": [],
   "source": [
    "# OHE the variables\n",
    "ohe_data = pd.get_dummies(data, columns=cols_to_ohe)"
   ]
  },
  {
   "cell_type": "code",
   "execution_count": null,
   "metadata": {
    "colab": {
     "base_uri": "https://localhost:8080/",
     "height": 246
    },
    "colab_type": "code",
    "id": "zF-B23lBG7zH",
    "outputId": "1f4061ee-e992-493b-de4b-94d0ff62f526"
   },
   "outputs": [],
   "source": [
    "ohe_data.head()"
   ]
  },
  {
   "cell_type": "code",
   "execution_count": null,
   "metadata": {
    "colab": {},
    "colab_type": "code",
    "id": "YORQ8RKeG88_"
   },
   "outputs": [],
   "source": [
    "# split the data\n",
    "X_tr, X_te, y_tr, y_te = train_test_split(ohe_data, y, random_state=10)"
   ]
  },
  {
   "cell_type": "code",
   "execution_count": null,
   "metadata": {
    "colab": {
     "base_uri": "https://localhost:8080/",
     "height": 83
    },
    "colab_type": "code",
    "id": "PTGps6UFG89H",
    "outputId": "a1e6fdf9-8cb4-481c-e7a2-9793e3183453"
   },
   "outputs": [],
   "source": [
    "print(\"X_tr:\", X_tr.shape)\n",
    "print(\"X_te:\", X_te.shape)\n",
    "print(\"y_tr:\", y_tr.shape)\n",
    "print(\"y_te:\", y_te.shape)"
   ]
  },
  {
   "cell_type": "code",
   "execution_count": null,
   "metadata": {
    "colab": {
     "base_uri": "https://localhost:8080/",
     "height": 264
    },
    "colab_type": "code",
    "id": "7n37skRmG89Q",
    "outputId": "6509a4e6-9f67-4c0e-b189-4e3ef6a4a62a"
   },
   "outputs": [],
   "source": [
    "plt.hist(y_tr, bins=np.arange(0, 500, 50))\n",
    "plt.show()"
   ]
  },
  {
   "cell_type": "markdown",
   "metadata": {
    "colab_type": "text",
    "id": "UCugp5apG-HM"
   },
   "source": [
    "## Fit Some Models"
   ]
  },
  {
   "cell_type": "code",
   "execution_count": null,
   "metadata": {
    "colab": {
     "base_uri": "https://localhost:8080/",
     "height": 83
    },
    "colab_type": "code",
    "id": "sr2cPOP2G-HQ",
    "outputId": "6c3ae978-6166-435a-f3f1-6d7a3de44e9c"
   },
   "outputs": [],
   "source": [
    "# baseline RMSE using mean\n",
    "y_mean = np.mean(y_tr)\n",
    "baseline_preds = [y_mean] * len(y_te)\n",
    "baseline_mse = mean_squared_error(y_te, baseline_preds)\n",
    "print(\"Target Mean:\", y_mean)\n",
    "print(\"Target Std:\", np.std(y_tr))\n",
    "print(\"Baseline RMSE:\", np.sqrt(baseline_mse))\n",
    "print(\"Baseline R^2:\", r2_score(y_te, baseline_preds))"
   ]
  },
  {
   "cell_type": "markdown",
   "metadata": {
    "colab_type": "text",
    "id": "yCXUm2NJG-HZ"
   },
   "source": [
    "### RandomForest\n",
    "\n",
    "Note - run this entire section, then come back and run it again skipping the cell below. The first time through will identify which columns are not used by the model and then the second time will drop those columns which improves the performance."
   ]
  },
  {
   "cell_type": "code",
   "execution_count": null,
   "metadata": {
    "colab": {},
    "colab_type": "code",
    "id": "FbyHbFfOG-Hb"
   },
   "outputs": [],
   "source": [
    "rfr_drop_features = []"
   ]
  },
  {
   "cell_type": "code",
   "execution_count": null,
   "metadata": {
    "colab": {},
    "colab_type": "code",
    "id": "idlwqzcFG-Hh"
   },
   "outputs": [],
   "source": [
    "rfr = RandomForestRegressor(n_estimators=350, max_depth=38, n_jobs=-1)\n",
    "rfr.fit(X_tr.drop(rfr_drop_features, axis=1), y_tr)"
   ]
  },
  {
   "cell_type": "code",
   "execution_count": null,
   "metadata": {
    "colab": {
     "base_uri": "https://localhost:8080/",
     "height": 50
    },
    "colab_type": "code",
    "id": "cT4v4QzhG-Ho",
    "outputId": "ff7c516a-b6a2-41ac-dbfc-955bd4585744"
   },
   "outputs": [],
   "source": [
    "# depth 35 - all features - max 1000\n",
    "rfr_preds = rfr.predict(X_te.drop(rfr_drop_features, axis=1)).clip(*clip_values)\n",
    "rfr_acc = mean_squared_error(y_te, rfr_preds)\n",
    "print(\"Test RMSE:\", np.sqrt(rfr_acc))\n",
    "print(\"Test R^2:\", rfr.score(X_te.drop(rfr_drop_features, axis=1), y_te))"
   ]
  },
  {
   "cell_type": "code",
   "execution_count": null,
   "metadata": {
    "colab": {},
    "colab_type": "code",
    "id": "gKFydzvWR-pO"
   },
   "outputs": [],
   "source": [
    "# depth 38 - all features - max 1000\n",
    "rfr_preds = rfr.predict(X_te.drop(rfr_drop_features, axis=1)).clip(*clip_values)\n",
    "rfr_acc = mean_squared_error(y_te, rfr_preds)\n",
    "print(\"Test RMSE:\", np.sqrt(rfr_acc))\n",
    "print(\"Test R^2:\", rfr.score(X_te.drop(rfr_drop_features, axis=1), y_te))"
   ]
  },
  {
   "cell_type": "code",
   "execution_count": null,
   "metadata": {
    "colab": {
     "base_uri": "https://localhost:8080/",
     "height": 50
    },
    "colab_type": "code",
    "id": "XlJU8vM4G_2s",
    "outputId": "e8ffc26f-cf4f-454c-961e-f84258dc2eb7"
   },
   "outputs": [],
   "source": [
    "# depth 35 - used features - max 1000\n",
    "rfr_preds = rfr.predict(X_te.drop(rfr_drop_features, axis=1)).clip(*clip_values)\n",
    "rfr_acc = mean_squared_error(y_te, rfr_preds)\n",
    "print(\"Test RMSE:\", np.sqrt(rfr_acc))\n",
    "print(\"Test R^2:\", rfr.score(X_te.drop(rfr_drop_features, axis=1), y_te))"
   ]
  },
  {
   "cell_type": "code",
   "execution_count": null,
   "metadata": {
    "colab": {},
    "colab_type": "code",
    "id": "bzkdPH56G_2k",
    "outputId": "6c1b5666-f703-4828-e7b8-3d75c0c6abf7"
   },
   "outputs": [],
   "source": [
    "# depth 35 - all features - max 500\n",
    "rfr_preds = rfr.predict(X_te.drop(rfr_drop_features, axis=1)).clip(*clip_values)\n",
    "rfr_acc = mean_squared_error(y_te, rfr_preds)\n",
    "print(\"Test RMSE:\", np.sqrt(rfr_acc))\n",
    "print(\"Test R^2:\", rfr.score(X_te.drop(rfr_drop_features, axis=1), y_te))"
   ]
  },
  {
   "cell_type": "code",
   "execution_count": null,
   "metadata": {
    "colab": {},
    "colab_type": "code",
    "id": "yXL2Dz_vG_21",
    "outputId": "c3712146-d190-4f30-e74b-f1cb7edf22bc"
   },
   "outputs": [],
   "source": [
    "# depth 32 - all features - max 2000\n",
    "rfr_preds = rfr.predict(X_te.drop(rfr_drop_features, axis=1)).clip(*clip_values)\n",
    "rfr_acc = mean_squared_error(y_te, rfr_preds)\n",
    "print(\"Test RMSE:\", np.sqrt(rfr_acc))\n",
    "print(\"Test R^2:\", rfr.score(X_te.drop(rfr_drop_features, axis=1), y_te))"
   ]
  },
  {
   "cell_type": "code",
   "execution_count": null,
   "metadata": {
    "colab": {},
    "colab_type": "code",
    "id": "C6Hm-6rjHBAt",
    "outputId": "08222f11-7a20-450c-c11a-bd7c9380c4c4"
   },
   "outputs": [],
   "source": [
    "# all features\n",
    "rfr_tr_preds = rfr.predict(X_tr.drop(rfr_drop_features, axis=1))\n",
    "print(\"Train RMSE:\", np.sqrt(mean_squared_error(y_tr, rfr_tr_preds)))\n",
    "print(\"Train R^2:\", rfr.score(X_tr.drop(rfr_drop_features, axis=1), y_tr))"
   ]
  },
  {
   "cell_type": "code",
   "execution_count": null,
   "metadata": {
    "colab": {
     "base_uri": "https://localhost:8080/",
     "height": 166
    },
    "colab_type": "code",
    "id": "1tp4ZlbOHBA4",
    "outputId": "a82fc2bc-09c2-4624-b711-74ae3cabca79"
   },
   "outputs": [],
   "source": [
    "print(\"Pred Mean:\", np.mean(rfr_preds))\n",
    "print(\"Pred Std:\", np.std(rfr_preds))\n",
    "print(\"Pred Min:\", np.min(rfr_preds))\n",
    "print(\"Pred Max:\", np.max(rfr_preds))\n",
    "print()\n",
    "print(\"True Mean:\", np.mean(y_te))\n",
    "print(\"True Std:\", np.std(y_te))\n",
    "print(\"True Min:\", np.min(y_te))\n",
    "print(\"True Max:\", np.max(y_te))"
   ]
  },
  {
   "cell_type": "code",
   "execution_count": null,
   "metadata": {
    "colab": {
     "base_uri": "https://localhost:8080/",
     "height": 293
    },
    "colab_type": "code",
    "id": "gDHsm2wCHDCm",
    "outputId": "1631e43f-9802-4437-d7c8-f760396a30d3"
   },
   "outputs": [],
   "source": [
    "# depth 35 - all features - max 1000\n",
    "plt.scatter(rfr_preds, y_te, alpha=0.5)\n",
    "plt.title(\"Random Forest Predictions vs Ground Truth\")\n",
    "plt.xlabel(\"Predictions\")\n",
    "plt.ylabel(\"Ground Truth\")\n",
    "plt.show()"
   ]
  },
  {
   "cell_type": "code",
   "execution_count": null,
   "metadata": {
    "colab": {
     "base_uri": "https://localhost:8080/",
     "height": 293
    },
    "colab_type": "code",
    "id": "fSssVT3cHBBC",
    "outputId": "d4fbbb6d-966f-4ddb-e921-058c1927124e"
   },
   "outputs": [],
   "source": [
    "# depth 35 - used features - max 1000\n",
    "plt.scatter(rfr_preds, y_te, alpha=0.5)\n",
    "plt.title(\"Random Forest Predictions vs Ground Truth\")\n",
    "plt.xlabel(\"Predictions\")\n",
    "plt.ylabel(\"Ground Truth\")\n",
    "plt.show()"
   ]
  },
  {
   "cell_type": "code",
   "execution_count": null,
   "metadata": {
    "colab": {},
    "colab_type": "code",
    "id": "-93l00c7HDCu",
    "outputId": "608b0a0c-1966-4762-ac3f-343eb0c10224"
   },
   "outputs": [],
   "source": [
    "# depth 35 - all features\n",
    "plt.scatter(rfr_preds, y_te, alpha=0.5)\n",
    "plt.title(\"Random Forest Predictions vs Ground Truth\")\n",
    "plt.xlabel(\"Predictions\")\n",
    "plt.ylabel(\"Ground Truth\")\n",
    "plt.show()"
   ]
  },
  {
   "cell_type": "code",
   "execution_count": null,
   "metadata": {
    "colab": {
     "base_uri": "https://localhost:8080/",
     "height": 19750
    },
    "colab_type": "code",
    "id": "N-LJbERfHDC2",
    "outputId": "656d104b-4ae2-44bf-84b2-5f5790e15785"
   },
   "outputs": [],
   "source": [
    "# feature importances\n",
    "rfr_drop_features = []\n",
    "\n",
    "ranked = [(x, imp) for imp,x in sorted(zip(rfr.feature_importances_, X_tr.columns), reverse=True)]\n",
    "for col, imp in ranked:\n",
    "    print(col, imp)\n",
    "    if imp == 0:\n",
    "        rfr_drop_features.append(col)"
   ]
  },
  {
   "cell_type": "code",
   "execution_count": null,
   "metadata": {
    "colab": {
     "base_uri": "https://localhost:8080/",
     "height": 33
    },
    "colab_type": "code",
    "id": "-df9oEsuHDC-",
    "outputId": "5f1d1c8e-6f5d-46ed-860b-c4c5ee694249"
   },
   "outputs": [],
   "source": [
    "print(\"Features to drop:\", len(rfr_drop_features))"
   ]
  },
  {
   "cell_type": "markdown",
   "metadata": {
    "colab_type": "text",
    "id": "pUyjiesjHEfd"
   },
   "source": [
    "### ExtraTrees"
   ]
  },
  {
   "cell_type": "code",
   "execution_count": null,
   "metadata": {
    "colab": {},
    "colab_type": "code",
    "id": "9fYwdVKtHEfg"
   },
   "outputs": [],
   "source": [
    "et_drop_features = []"
   ]
  },
  {
   "cell_type": "code",
   "execution_count": null,
   "metadata": {
    "colab": {
     "base_uri": "https://localhost:8080/",
     "height": 116
    },
    "colab_type": "code",
    "id": "chjVuN5eHEfm",
    "outputId": "85dc0ee3-f224-4b8d-c5ca-b090488ddd96"
   },
   "outputs": [],
   "source": [
    "et = ExtraTreesRegressor(n_estimators=350, max_depth=35, n_jobs=-1)\n",
    "et.fit(X_tr.drop(et_drop_features, axis=1), y_tr)"
   ]
  },
  {
   "cell_type": "code",
   "execution_count": null,
   "metadata": {
    "colab": {
     "base_uri": "https://localhost:8080/",
     "height": 50
    },
    "colab_type": "code",
    "id": "P85EEWN7HEfv",
    "outputId": "a83c984e-6eea-4b66-b1a6-594f99373317"
   },
   "outputs": [],
   "source": [
    "# all features\n",
    "et_preds = et.predict(X_te.drop(et_drop_features, axis=1)).clip(*clip_values)\n",
    "et_acc = mean_squared_error(y_te, et_preds)\n",
    "print(\"Test RMSE:\", np.sqrt(et_acc))\n",
    "print(\"Test R^2:\", et.score(X_te.drop(et_drop_features, axis=1), y_te))"
   ]
  },
  {
   "cell_type": "code",
   "execution_count": null,
   "metadata": {
    "colab": {
     "base_uri": "https://localhost:8080/",
     "height": 50
    },
    "colab_type": "code",
    "id": "M35BSsvkgB32",
    "outputId": "7e34ccea-9289-4137-c9dc-e8f4d8aaef9f"
   },
   "outputs": [],
   "source": [
    "# used features\n",
    "et_preds = et.predict(X_te.drop(et_drop_features, axis=1)).clip(*clip_values)\n",
    "et_acc = mean_squared_error(y_te, et_preds)\n",
    "print(\"Test RMSE:\", np.sqrt(et_acc))\n",
    "print(\"Test R^2:\", et.score(X_te.drop(et_drop_features, axis=1), y_te))"
   ]
  },
  {
   "cell_type": "code",
   "execution_count": null,
   "metadata": {
    "colab": {
     "base_uri": "https://localhost:8080/",
     "height": 50
    },
    "colab_type": "code",
    "id": "jIjuT2DmHFpl",
    "outputId": "b8e924ed-dfef-4cee-87cb-4d5c5e2189b9"
   },
   "outputs": [],
   "source": [
    "et_tr_preds = et.predict(X_tr.drop(et_drop_features, axis=1))\n",
    "print(\"Train MSE:\", np.sqrt(mean_squared_error(y_tr, et_tr_preds)))\n",
    "print(\"Train R^2:\", et.score(X_tr.drop(et_drop_features, axis=1), y_tr))"
   ]
  },
  {
   "cell_type": "code",
   "execution_count": null,
   "metadata": {
    "colab": {
     "base_uri": "https://localhost:8080/",
     "height": 166
    },
    "colab_type": "code",
    "id": "ssBrT48UHFpq",
    "outputId": "d63bccf2-0fb8-4ba3-cd57-621603d969e2"
   },
   "outputs": [],
   "source": [
    "print(\"Pred Mean:\", np.mean(et_preds))\n",
    "print(\"Pred Std:\", np.std(et_preds))\n",
    "print(\"Pred Min:\", np.min(et_preds))\n",
    "print(\"Pred Max:\", np.max(et_preds))\n",
    "print()\n",
    "print(\"True Mean:\", np.mean(y_te))\n",
    "print(\"True Std:\", np.std(y_te))\n",
    "print(\"True Min:\", np.min(y_te))\n",
    "print(\"True Max:\", np.max(y_te))"
   ]
  },
  {
   "cell_type": "code",
   "execution_count": null,
   "metadata": {
    "colab": {
     "base_uri": "https://localhost:8080/",
     "height": 293
    },
    "colab_type": "code",
    "id": "d9qe05LGHFpw",
    "outputId": "5b2ab59b-9fda-4a13-c4e3-3245b58cf9e2"
   },
   "outputs": [],
   "source": [
    "plt.scatter(et_preds, y_te, alpha=0.5)\n",
    "plt.title(\"Extra Trees Predictions vs Ground Truth\")\n",
    "plt.xlabel(\"Predictions\")\n",
    "plt.ylabel(\"Ground Truth\")\n",
    "plt.show()"
   ]
  },
  {
   "cell_type": "code",
   "execution_count": null,
   "metadata": {
    "colab": {
     "base_uri": "https://localhost:8080/",
     "height": 19750
    },
    "colab_type": "code",
    "id": "dlnxP-ADHFp5",
    "outputId": "16e25c56-65c7-499f-ecad-53a6fbc8a36c"
   },
   "outputs": [],
   "source": [
    "# feature importances\n",
    "et_drop_features = []\n",
    "\n",
    "ranked = [(x, imp) for imp,x in sorted(zip(et.feature_importances_, X_tr.columns), reverse=True)]\n",
    "for col, imp in ranked:\n",
    "    print(col, imp)\n",
    "    if imp == 0:\n",
    "        et_drop_features.append(col)"
   ]
  },
  {
   "cell_type": "code",
   "execution_count": null,
   "metadata": {
    "colab": {
     "base_uri": "https://localhost:8080/",
     "height": 33
    },
    "colab_type": "code",
    "id": "IYY1ykJnHGz1",
    "outputId": "f114a87c-0edc-4504-d2dd-3e15a668d497"
   },
   "outputs": [],
   "source": [
    "print(\"ET Features to Drop:\", len(et_drop_features))"
   ]
  },
  {
   "cell_type": "markdown",
   "metadata": {
    "colab_type": "text",
    "id": "CRMHr6rhHG0H"
   },
   "source": [
    "### LinearRegression"
   ]
  },
  {
   "cell_type": "code",
   "execution_count": null,
   "metadata": {
    "colab": {},
    "colab_type": "code",
    "id": "RnCi90RmHG0J",
    "outputId": "3c00f748-d1d3-4bcf-f360-ae349dd5a590"
   },
   "outputs": [],
   "source": [
    "lr = LinearRegression()\n",
    "lr.fit(X_tr, y_tr)\n",
    "lr_preds = lr.predict(X_te).clip(*clip_values)\n",
    "lr_acc = mean_squared_error(y_te, lr_preds)\n",
    "print(\"Test RMSE:\", np.sqrt(lr_acc))"
   ]
  },
  {
   "cell_type": "code",
   "execution_count": null,
   "metadata": {
    "colab": {},
    "colab_type": "code",
    "id": "01t2R3RfHG0R",
    "outputId": "ea209bed-d5a6-4a8e-e430-8ce187cb492c"
   },
   "outputs": [],
   "source": [
    "lr_tr_preds = lr.predict(X_tr)\n",
    "print(\"Train RMSE:\", np.sqrt(mean_squared_error(y_tr, lr_tr_preds)))"
   ]
  },
  {
   "cell_type": "code",
   "execution_count": null,
   "metadata": {
    "colab": {},
    "colab_type": "code",
    "id": "VbZXa0AgHH-M",
    "outputId": "0e0a730d-2188-4637-f9c5-6af12e84e545"
   },
   "outputs": [],
   "source": [
    "print(\"Pred Mean:\", np.mean(lr_preds))\n",
    "print(\"Pred Std:\", np.std(lr_preds))\n",
    "print(\"Pred Min:\", np.min(lr_preds))\n",
    "print(\"Pred Max:\", np.max(lr_preds))\n",
    "print()\n",
    "print(\"True Mean:\", np.mean(y_te))\n",
    "print(\"True Std:\", np.std(y_te))\n",
    "print(\"True Min:\", np.min(y_te))\n",
    "print(\"True Max:\", np.max(y_te))"
   ]
  },
  {
   "cell_type": "code",
   "execution_count": null,
   "metadata": {
    "colab": {},
    "colab_type": "code",
    "id": "ln9A0LW-HH-W",
    "outputId": "6adec9da-1c51-4c03-c541-5b069eab431b"
   },
   "outputs": [],
   "source": [
    "plt.scatter(lr_preds, y_te, alpha=0.5)\n",
    "plt.title(\"LR Preds vs True\")\n",
    "plt.xlabel(\"Predictions\")\n",
    "plt.ylabel(\"Ground Truth\")\n",
    "plt.show()"
   ]
  },
  {
   "cell_type": "code",
   "execution_count": null,
   "metadata": {
    "colab": {},
    "colab_type": "code",
    "id": "Qjn69NwlHH-g"
   },
   "outputs": [],
   "source": []
  }
 ],
 "metadata": {
  "colab": {
   "collapsed_sections": [
    "CRMHr6rhHG0H"
   ],
   "name": "tenders_prediction.ipynb",
   "provenance": [],
   "version": "0.3.2"
  },
  "kernelspec": {
   "display_name": "Python 3",
   "language": "python",
   "name": "python3"
  }
 },
 "nbformat": 4,
 "nbformat_minor": 1
}
