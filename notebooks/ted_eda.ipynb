{
 "cells": [
  {
   "cell_type": "code",
   "execution_count": null,
   "metadata": {},
   "outputs": [],
   "source": [
    "import json\n",
    "import os\n",
    "import collections\n",
    "\n",
    "import xmltodict\n",
    "import pandas as pd"
   ]
  },
  {
   "cell_type": "markdown",
   "metadata": {},
   "source": [
    "https://publications.europa.eu/en/web/eu-vocabularies/tedschemashttps://publications.europa.eu/en/web/eu-vocabularies/tedschemas"
   ]
  },
  {
   "cell_type": "code",
   "execution_count": null,
   "metadata": {},
   "outputs": [],
   "source": [
    "with open(f'data/2019-01/20190131_022/047130_2019.xml', 'r') as f:\n",
    "    xml = f.read()\n",
    "    parsed_xml = xmltodict.parse(xml)\n",
    "    print(type(parsed_xml['TED_EXPORT']['FORM_SECTION']['F01_2014']))"
   ]
  },
  {
   "cell_type": "code",
   "execution_count": null,
   "metadata": {},
   "outputs": [],
   "source": [
    "parsed_xmls = []\n",
    "en_tenders = []"
   ]
  },
  {
   "cell_type": "code",
   "execution_count": null,
   "metadata": {},
   "outputs": [],
   "source": [
    "for filename in os.listdir('data/2019-01/20190131_022/'):\n",
    "    with open(f'data/2019-01/20190131_022/{filename}', 'r') as f:\n",
    "        xml = f.read()\n",
    "        parsed_xml = xmltodict.parse(xml)\n",
    "        parsed_xmls.append(parsed_xml)\n",
    "        try:\n",
    "            fred = parsed_xml['TED_EXPORT']['FORM_SECTION']['F01_2014']\n",
    "            if isinstance(fred, list):\n",
    "                for i, fred in enumerate(fred):\n",
    "                    if fred['@LG'] == 'EN':\n",
    "                        en_tenders.append(fred[i])\n",
    "            elif isinstance(fred, collections.OrderedDict):\n",
    "                if fred['@LG'] == 'EN':\n",
    "                    en_tenders.append(fred)\n",
    "        except Exception as e:\n",
    "            pass\n",
    "        "
   ]
  },
  {
   "cell_type": "code",
   "execution_count": null,
   "metadata": {},
   "outputs": [],
   "source": [
    "len(en_tenders)"
   ]
  },
  {
   "cell_type": "code",
   "execution_count": null,
   "metadata": {},
   "outputs": [],
   "source": [
    "for tender in en_tenders:\n",
    "    print(json.dumps(tender, indent=4))"
   ]
  },
  {
   "cell_type": "code",
   "execution_count": null,
   "metadata": {},
   "outputs": [],
   "source": []
  }
 ],
 "metadata": {
  "kernelspec": {
   "display_name": "Python 3",
   "language": "python",
   "name": "python3"
  },
  "language_info": {
   "codemirror_mode": {
    "name": "ipython",
    "version": 3
   },
   "file_extension": ".py",
   "mimetype": "text/x-python",
   "name": "python",
   "nbconvert_exporter": "python",
   "pygments_lexer": "ipython3",
   "version": "3.7.2"
  }
 },
 "nbformat": 4,
 "nbformat_minor": 2
}
