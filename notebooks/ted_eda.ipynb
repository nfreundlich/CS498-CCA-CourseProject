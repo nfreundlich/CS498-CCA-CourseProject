{
 "cells": [
  {
   "cell_type": "code",
   "execution_count": null,
   "metadata": {},
   "outputs": [],
   "source": [
    "import json\n",
    "import os\n",
    "import collections\n",
    "\n",
    "import xmltodict\n",
    "import pandas as pd"
   ]
  },
  {
   "cell_type": "markdown",
   "metadata": {},
   "source": [
    "* [TED Schemas](https://publications.europa.eu/en/web/eu-vocabularies/tedschemashttps://publications.europa.eu/en/web/eu-vocabularies/tedschemas)\n",
    "* [Forms in PDF ](http://simap.ted.europa.eu/standard-forms-for-public-procurement)"
   ]
  },
  {
   "cell_type": "code",
   "execution_count": null,
   "metadata": {},
   "outputs": [],
   "source": [
    "with open(f'data/2019-01/20190131_022/047130_2019.xml', 'r') as f:\n",
    "    xml = f.read()\n",
    "    parsed_xml = xmltodict.parse(xml)\n",
    "    print(parsed_xml['TED_EXPORT']['FORM_SECTION'].keys())"
   ]
  },
  {
   "cell_type": "code",
   "execution_count": null,
   "metadata": {},
   "outputs": [],
   "source": [
    "parsed_xmls = []\n",
    "en_tenders = []"
   ]
  },
  {
   "cell_type": "code",
   "execution_count": null,
   "metadata": {},
   "outputs": [],
   "source": [
    "for filename in os.listdir('data/2019-01/20190131_022/'):\n",
    "    with open(f'data/2019-01/20190131_022/{filename}', 'r') as f:\n",
    "        xml = f.read()\n",
    "        parsed_xml = xmltodict.parse(xml)\n",
    "        parsed_xmls.append(parsed_xml)\n",
    "        forms_section = parsed_xml['TED_EXPORT']['FORM_SECTION']\n",
    "        forms = forms_section.keys()\n",
    "        for form in forms:\n",
    "            try:\n",
    "                form_contents = forms_section[form]\n",
    "                if isinstance(form_contents, list):\n",
    "                    for i, form_contents in enumerate(fred):\n",
    "                        if form_contents['@LG'] == 'EN':\n",
    "                            en_tenders.append(form_contents[i])\n",
    "                elif isinstance(form_contents, collections.OrderedDict):\n",
    "                    if form_contents['@LG'] == 'EN':\n",
    "                        en_tenders.append(form_contents)\n",
    "            except Exception as e:\n",
    "                pass\n",
    "        "
   ]
  },
  {
   "cell_type": "code",
   "execution_count": null,
   "metadata": {},
   "outputs": [],
   "source": [
    "len(en_tenders)"
   ]
  },
  {
   "cell_type": "code",
   "execution_count": null,
   "metadata": {},
   "outputs": [],
   "source": [
    "parsed_data = []\n",
    "for tender in en_tenders:\n",
    "    flattened = {}\n",
    "    try:\n",
    "        for key, value in tender['CONTRACTING_BODY'].items():\n",
    "            address_contracting_body = value\n",
    "            try:\n",
    "                for key, value in address_contracting_body.items():\n",
    "                    flattened[key.lower()] = value\n",
    "            except:\n",
    "                pass\n",
    "        \n",
    "        flattened['title'] = tender['OBJECT_CONTRACT']['TITLE']['P']\n",
    "        flattened['short_description'] = tender['OBJECT_CONTRACT']['SHORT_DESCR']['P']\n",
    "        \n",
    "        parsed_data.append(flattened)\n",
    "    except:\n",
    "        pass"
   ]
  },
  {
   "cell_type": "code",
   "execution_count": null,
   "metadata": {},
   "outputs": [],
   "source": [
    "len(parsed_data)"
   ]
  },
  {
   "cell_type": "code",
   "execution_count": null,
   "metadata": {},
   "outputs": [],
   "source": [
    "df = pd.DataFrame(parsed_data)"
   ]
  },
  {
   "cell_type": "code",
   "execution_count": null,
   "metadata": {},
   "outputs": [],
   "source": [
    "df"
   ]
  },
  {
   "cell_type": "code",
   "execution_count": null,
   "metadata": {},
   "outputs": [],
   "source": []
  }
 ],
 "metadata": {
  "kernelspec": {
   "display_name": "Python 3",
   "language": "python",
   "name": "python3"
  },
  "language_info": {
   "codemirror_mode": {
    "name": "ipython",
    "version": 3
   },
   "file_extension": ".py",
   "mimetype": "text/x-python",
   "name": "python",
   "nbconvert_exporter": "python",
   "pygments_lexer": "ipython3",
   "version": "3.7.2"
  }
 },
 "nbformat": 4,
 "nbformat_minor": 2
}
